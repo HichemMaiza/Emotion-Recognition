{
 "cells": [
  {
   "cell_type": "markdown",
   "metadata": {},
   "source": [
    "# Emotion Recognition Project\n",
    "\n",
    "## MAIZA Hichem\n",
    "### M2 ATAL"
   ]
  },
  {
   "cell_type": "code",
   "execution_count": 1,
   "metadata": {},
   "outputs": [],
   "source": [
    "import os\n",
    "import glob\n",
    "import sklearn\n",
    "import pandas as pd\n",
    "import numpy as np \n",
    "import arff\n",
    "import re\n",
    "import time\n",
    "from scipy.stats import kurtosis, skew"
   ]
  },
  {
   "cell_type": "markdown",
   "metadata": {},
   "source": [
    "# Define paths to the generated .arff and their labels"
   ]
  },
  {
   "cell_type": "code",
   "execution_count": 2,
   "metadata": {},
   "outputs": [],
   "source": [
    "# train list files\n",
    "AIBO_O_DIR = np.sort(glob.glob(\"/home/maiza/Bureau/Projets/emotion/AIBO/wav/AIBO-O/MFCCs/*\"))\n",
    "#test list files\n",
    "AIBO_M_DIR = np.sort(glob.glob(\"/home/maiza/Bureau/Projets/emotion/AIBO/wav/AIBO-M/MFCCs/*\"))\n",
    "# labels : case of classes\n",
    "labels_2cl = \"/home/maiza/Bureau/Projets/emotion/AIBO/wav/chunk_labels_2cl_corpus.txt\"\n",
    "# labels : case of 5 classes\n",
    "labels_5cl = \"/home/maiza/Bureau/Projets/emotion/AIBO/wav/chunk_labels_5cl_corpus.txt\""
   ]
  },
  {
   "cell_type": "markdown",
   "metadata": {},
   "source": [
    "# Read the .arff Files and extract the genrated MFCCs Vectors"
   ]
  },
  {
   "cell_type": "code",
   "execution_count": 3,
   "metadata": {},
   "outputs": [],
   "source": [
    "def Extract_MFCC_Filename(MFCC, file_name ,list_file_dir):\n",
    "    \n",
    "    '''\n",
    "    Function to extract MFCCs, and Files names \n",
    "    \n",
    "    '''\n",
    "    \n",
    "    for file in list_file_dir:\n",
    "        with open(file) as f:\n",
    "            file_name.append(re.sub('.arff','',os.path.basename(file)))\n",
    "            MFCC.append(np.array(f.readlines()[-1].split(',')[1:-1], dtype='float'))\n",
    "    return MFCC, file_name\n",
    "\n",
    "def Generate_MFCC_Data_Frame(train_list_file_dir, test_list_file_dir):\n",
    "    \n",
    "    '''\n",
    "    Execute Extract_MFCC_Filename(...) function and then put MFCCs of \n",
    "    the training and test list file in one data frame\n",
    "    \n",
    "    Input-  train_list_file_dir\n",
    "            test_list_file_dir\n",
    "            \n",
    "    output  Data Frame \n",
    "    '''\n",
    "    \n",
    "    tic = time.process_time()\n",
    "    MFCC = []\n",
    "    file_name = [] \n",
    "    \n",
    "    MFCC, file_name = Extract_MFCC_Filename(MFCC, file_name ,train_list_file_dir)\n",
    "    MFCC, file_name = Extract_MFCC_Filename(MFCC, file_name ,test_list_file_dir)\n",
    "    \n",
    "    train_test_data_set = {\n",
    "        'file_name': file_name,\n",
    "        'MFCC': MFCC\n",
    "    }\n",
    "    \n",
    "    train_test_data_set = pd.DataFrame(train_test_data_set)\n",
    "    toc = time.process_time() \n",
    "    print ('Executing_time_in_ms = ' + str(1000*(toc-tic)))\n",
    "    \n",
    "    return train_test_data_set\n",
    "    "
   ]
  },
  {
   "cell_type": "code",
   "execution_count": 4,
   "metadata": {},
   "outputs": [
    {
     "name": "stdout",
     "output_type": "stream",
     "text": [
      "Executing_time_in_ms = 4359.801334\n"
     ]
    }
   ],
   "source": [
    "train_test_data_set = Generate_MFCC_Data_Frame(AIBO_O_DIR, AIBO_M_DIR)"
   ]
  },
  {
   "cell_type": "code",
   "execution_count": 5,
   "metadata": {},
   "outputs": [
    {
     "data": {
      "text/html": [
       "<div>\n",
       "<style scoped>\n",
       "    .dataframe tbody tr th:only-of-type {\n",
       "        vertical-align: middle;\n",
       "    }\n",
       "\n",
       "    .dataframe tbody tr th {\n",
       "        vertical-align: top;\n",
       "    }\n",
       "\n",
       "    .dataframe thead th {\n",
       "        text-align: right;\n",
       "    }\n",
       "</style>\n",
       "<table border=\"1\" class=\"dataframe\">\n",
       "  <thead>\n",
       "    <tr style=\"text-align: right;\">\n",
       "      <th></th>\n",
       "      <th>MFCC</th>\n",
       "      <th>file_name</th>\n",
       "    </tr>\n",
       "  </thead>\n",
       "  <tbody>\n",
       "    <tr>\n",
       "      <th>0</th>\n",
       "      <td>[0.005667331, 0.0003117731, 0.005355558, 53.0,...</td>\n",
       "      <td>Ohm_01_015_00</td>\n",
       "    </tr>\n",
       "    <tr>\n",
       "      <th>1</th>\n",
       "      <td>[0.01041963, 0.0002702086, 0.01014942, 61.0, 3...</td>\n",
       "      <td>Ohm_01_016_00</td>\n",
       "    </tr>\n",
       "    <tr>\n",
       "      <th>2</th>\n",
       "      <td>[0.01909119, 0.0002510243, 0.01884016, 60.0, 1...</td>\n",
       "      <td>Ohm_01_017_00</td>\n",
       "    </tr>\n",
       "    <tr>\n",
       "      <th>3</th>\n",
       "      <td>[0.01374097, 0.0002331673, 0.0135078, 66.0, 20...</td>\n",
       "      <td>Ohm_01_018_00</td>\n",
       "    </tr>\n",
       "    <tr>\n",
       "      <th>4</th>\n",
       "      <td>[0.001530198, 0.0002304439, 0.001299754, 49.0,...</td>\n",
       "      <td>Ohm_01_018_01</td>\n",
       "    </tr>\n",
       "  </tbody>\n",
       "</table>\n",
       "</div>"
      ],
      "text/plain": [
       "                                                MFCC      file_name\n",
       "0  [0.005667331, 0.0003117731, 0.005355558, 53.0,...  Ohm_01_015_00\n",
       "1  [0.01041963, 0.0002702086, 0.01014942, 61.0, 3...  Ohm_01_016_00\n",
       "2  [0.01909119, 0.0002510243, 0.01884016, 60.0, 1...  Ohm_01_017_00\n",
       "3  [0.01374097, 0.0002331673, 0.0135078, 66.0, 20...  Ohm_01_018_00\n",
       "4  [0.001530198, 0.0002304439, 0.001299754, 49.0,...  Ohm_01_018_01"
      ]
     },
     "execution_count": 5,
     "metadata": {},
     "output_type": "execute_result"
    }
   ],
   "source": [
    "train_test_data_set.head()"
   ]
  },
  {
   "cell_type": "markdown",
   "metadata": {},
   "source": [
    "# A function to read labels than reorgnize them in dictionnary structures"
   ]
  },
  {
   "cell_type": "code",
   "execution_count": 6,
   "metadata": {},
   "outputs": [],
   "source": [
    "def read_labels(labels_file , c) : \n",
    "    '''\n",
    "    Read labels file and return a data frame \n",
    "    \n",
    "    Input- labels_file name\n",
    "           c number of classes it can be 2 or 5  \n",
    "    '''\n",
    "    \n",
    "    file_name = [] \n",
    "    classe = []\n",
    "    value = []\n",
    "    \n",
    "    with open(labels_file) as labels :\n",
    "        \n",
    "        lines = labels.readlines()\n",
    "        \n",
    "        for line in lines :\n",
    "            line = line.strip('\\n').split(' ')\n",
    "            file_name.append(line[0] ) \n",
    "            classe.append(line[1])\n",
    "            value.append(line[2])\n",
    "            \n",
    "        dic = {\n",
    "            'file_name':file_name, \n",
    "            'classe_{}'.format(c):classe,\n",
    "            'value_{}'.format(c): value\n",
    "        }\n",
    "        \n",
    "        data_frame = pd.DataFrame(dic)\n",
    "        \n",
    "    return data_frame"
   ]
  },
  {
   "cell_type": "markdown",
   "metadata": {},
   "source": [
    "# Extract Both Dictionnary and reorgnize them "
   ]
  },
  {
   "cell_type": "code",
   "execution_count": 7,
   "metadata": {},
   "outputs": [
    {
     "data": {
      "text/html": [
       "<div>\n",
       "<style scoped>\n",
       "    .dataframe tbody tr th:only-of-type {\n",
       "        vertical-align: middle;\n",
       "    }\n",
       "\n",
       "    .dataframe tbody tr th {\n",
       "        vertical-align: top;\n",
       "    }\n",
       "\n",
       "    .dataframe thead th {\n",
       "        text-align: right;\n",
       "    }\n",
       "</style>\n",
       "<table border=\"1\" class=\"dataframe\">\n",
       "  <thead>\n",
       "    <tr style=\"text-align: right;\">\n",
       "      <th></th>\n",
       "      <th>classe_2</th>\n",
       "      <th>file_name</th>\n",
       "      <th>value_2</th>\n",
       "    </tr>\n",
       "  </thead>\n",
       "  <tbody>\n",
       "    <tr>\n",
       "      <th>0</th>\n",
       "      <td>IDL</td>\n",
       "      <td>Mont_01_000_00</td>\n",
       "      <td>1</td>\n",
       "    </tr>\n",
       "    <tr>\n",
       "      <th>1</th>\n",
       "      <td>IDL</td>\n",
       "      <td>Mont_01_001_00</td>\n",
       "      <td>1</td>\n",
       "    </tr>\n",
       "    <tr>\n",
       "      <th>2</th>\n",
       "      <td>IDL</td>\n",
       "      <td>Mont_01_001_01</td>\n",
       "      <td>1</td>\n",
       "    </tr>\n",
       "    <tr>\n",
       "      <th>3</th>\n",
       "      <td>IDL</td>\n",
       "      <td>Mont_01_004_00</td>\n",
       "      <td>0.9</td>\n",
       "    </tr>\n",
       "    <tr>\n",
       "      <th>4</th>\n",
       "      <td>IDL</td>\n",
       "      <td>Mont_01_005_00</td>\n",
       "      <td>1</td>\n",
       "    </tr>\n",
       "  </tbody>\n",
       "</table>\n",
       "</div>"
      ],
      "text/plain": [
       "  classe_2       file_name value_2\n",
       "0      IDL  Mont_01_000_00       1\n",
       "1      IDL  Mont_01_001_00       1\n",
       "2      IDL  Mont_01_001_01       1\n",
       "3      IDL  Mont_01_004_00     0.9\n",
       "4      IDL  Mont_01_005_00       1"
      ]
     },
     "execution_count": 7,
     "metadata": {},
     "output_type": "execute_result"
    }
   ],
   "source": [
    "data_frame_2c = read_labels (labels_2cl, 2)\n",
    "data_frame_2c.head()"
   ]
  },
  {
   "cell_type": "code",
   "execution_count": 8,
   "metadata": {},
   "outputs": [
    {
     "data": {
      "text/html": [
       "<div>\n",
       "<style scoped>\n",
       "    .dataframe tbody tr th:only-of-type {\n",
       "        vertical-align: middle;\n",
       "    }\n",
       "\n",
       "    .dataframe tbody tr th {\n",
       "        vertical-align: top;\n",
       "    }\n",
       "\n",
       "    .dataframe thead th {\n",
       "        text-align: right;\n",
       "    }\n",
       "</style>\n",
       "<table border=\"1\" class=\"dataframe\">\n",
       "  <thead>\n",
       "    <tr style=\"text-align: right;\">\n",
       "      <th></th>\n",
       "      <th>classe_5</th>\n",
       "      <th>file_name</th>\n",
       "      <th>value_5</th>\n",
       "    </tr>\n",
       "  </thead>\n",
       "  <tbody>\n",
       "    <tr>\n",
       "      <th>0</th>\n",
       "      <td>N</td>\n",
       "      <td>Mont_01_000_00</td>\n",
       "      <td>1</td>\n",
       "    </tr>\n",
       "    <tr>\n",
       "      <th>1</th>\n",
       "      <td>N</td>\n",
       "      <td>Mont_01_001_00</td>\n",
       "      <td>1</td>\n",
       "    </tr>\n",
       "    <tr>\n",
       "      <th>2</th>\n",
       "      <td>N</td>\n",
       "      <td>Mont_01_001_01</td>\n",
       "      <td>1</td>\n",
       "    </tr>\n",
       "    <tr>\n",
       "      <th>3</th>\n",
       "      <td>N</td>\n",
       "      <td>Mont_01_004_00</td>\n",
       "      <td>0.9</td>\n",
       "    </tr>\n",
       "    <tr>\n",
       "      <th>4</th>\n",
       "      <td>N</td>\n",
       "      <td>Mont_01_005_00</td>\n",
       "      <td>1</td>\n",
       "    </tr>\n",
       "  </tbody>\n",
       "</table>\n",
       "</div>"
      ],
      "text/plain": [
       "  classe_5       file_name value_5\n",
       "0        N  Mont_01_000_00       1\n",
       "1        N  Mont_01_001_00       1\n",
       "2        N  Mont_01_001_01       1\n",
       "3        N  Mont_01_004_00     0.9\n",
       "4        N  Mont_01_005_00       1"
      ]
     },
     "execution_count": 8,
     "metadata": {},
     "output_type": "execute_result"
    }
   ],
   "source": [
    "data_frame_5c = read_labels (labels_5cl, 5)\n",
    "data_frame_5c.head()"
   ]
  },
  {
   "cell_type": "code",
   "execution_count": 9,
   "metadata": {},
   "outputs": [
    {
     "data": {
      "text/html": [
       "<div>\n",
       "<style scoped>\n",
       "    .dataframe tbody tr th:only-of-type {\n",
       "        vertical-align: middle;\n",
       "    }\n",
       "\n",
       "    .dataframe tbody tr th {\n",
       "        vertical-align: top;\n",
       "    }\n",
       "\n",
       "    .dataframe thead th {\n",
       "        text-align: right;\n",
       "    }\n",
       "</style>\n",
       "<table border=\"1\" class=\"dataframe\">\n",
       "  <thead>\n",
       "    <tr style=\"text-align: right;\">\n",
       "      <th></th>\n",
       "      <th>MFCC</th>\n",
       "      <th>classe_2c</th>\n",
       "      <th>classe_5c</th>\n",
       "      <th>file_name</th>\n",
       "      <th>kurtosis</th>\n",
       "      <th>mean</th>\n",
       "      <th>skewness</th>\n",
       "      <th>std</th>\n",
       "      <th>value_2c</th>\n",
       "      <th>value_5c</th>\n",
       "    </tr>\n",
       "  </thead>\n",
       "  <tbody>\n",
       "    <tr>\n",
       "      <th>0</th>\n",
       "      <td>[0.005667331, 0.0003117731, 0.005355558, 53.0,...</td>\n",
       "      <td>IDL</td>\n",
       "      <td>N</td>\n",
       "      <td>Ohm_01_015_00</td>\n",
       "      <td>357.183887</td>\n",
       "      <td>22.074596</td>\n",
       "      <td>18.693648</td>\n",
       "      <td>185.900529</td>\n",
       "      <td>1</td>\n",
       "      <td>1</td>\n",
       "    </tr>\n",
       "    <tr>\n",
       "      <th>1</th>\n",
       "      <td>[0.01041963, 0.0002702086, 0.01014942, 61.0, 3...</td>\n",
       "      <td>IDL</td>\n",
       "      <td>N</td>\n",
       "      <td>Ohm_01_016_00</td>\n",
       "      <td>370.521908</td>\n",
       "      <td>31.192448</td>\n",
       "      <td>19.195588</td>\n",
       "      <td>324.308852</td>\n",
       "      <td>1</td>\n",
       "      <td>1</td>\n",
       "    </tr>\n",
       "    <tr>\n",
       "      <th>2</th>\n",
       "      <td>[0.01909119, 0.0002510243, 0.01884016, 60.0, 1...</td>\n",
       "      <td>IDL</td>\n",
       "      <td>N</td>\n",
       "      <td>Ohm_01_017_00</td>\n",
       "      <td>353.025960</td>\n",
       "      <td>34.716302</td>\n",
       "      <td>18.528228</td>\n",
       "      <td>271.927149</td>\n",
       "      <td>1</td>\n",
       "      <td>1</td>\n",
       "    </tr>\n",
       "    <tr>\n",
       "      <th>3</th>\n",
       "      <td>[0.01374097, 0.0002331673, 0.0135078, 66.0, 20...</td>\n",
       "      <td>IDL</td>\n",
       "      <td>N</td>\n",
       "      <td>Ohm_01_018_00</td>\n",
       "      <td>351.132968</td>\n",
       "      <td>23.971229</td>\n",
       "      <td>18.470221</td>\n",
       "      <td>191.195626</td>\n",
       "      <td>0.9</td>\n",
       "      <td>0.9</td>\n",
       "    </tr>\n",
       "    <tr>\n",
       "      <th>4</th>\n",
       "      <td>[0.001530198, 0.0002304439, 0.001299754, 49.0,...</td>\n",
       "      <td>IDL</td>\n",
       "      <td>N</td>\n",
       "      <td>Ohm_01_018_01</td>\n",
       "      <td>367.001161</td>\n",
       "      <td>34.619512</td>\n",
       "      <td>19.073093</td>\n",
       "      <td>394.509343</td>\n",
       "      <td>1</td>\n",
       "      <td>1</td>\n",
       "    </tr>\n",
       "  </tbody>\n",
       "</table>\n",
       "</div>"
      ],
      "text/plain": [
       "                                                MFCC classe_2c classe_5c  \\\n",
       "0  [0.005667331, 0.0003117731, 0.005355558, 53.0,...       IDL         N   \n",
       "1  [0.01041963, 0.0002702086, 0.01014942, 61.0, 3...       IDL         N   \n",
       "2  [0.01909119, 0.0002510243, 0.01884016, 60.0, 1...       IDL         N   \n",
       "3  [0.01374097, 0.0002331673, 0.0135078, 66.0, 20...       IDL         N   \n",
       "4  [0.001530198, 0.0002304439, 0.001299754, 49.0,...       IDL         N   \n",
       "\n",
       "       file_name    kurtosis       mean   skewness         std value_2c  \\\n",
       "0  Ohm_01_015_00  357.183887  22.074596  18.693648  185.900529        1   \n",
       "1  Ohm_01_016_00  370.521908  31.192448  19.195588  324.308852        1   \n",
       "2  Ohm_01_017_00  353.025960  34.716302  18.528228  271.927149        1   \n",
       "3  Ohm_01_018_00  351.132968  23.971229  18.470221  191.195626      0.9   \n",
       "4  Ohm_01_018_01  367.001161  34.619512  19.073093  394.509343        1   \n",
       "\n",
       "  value_5c  \n",
       "0        1  \n",
       "1        1  \n",
       "2        1  \n",
       "3      0.9  \n",
       "4        1  "
      ]
     },
     "execution_count": 9,
     "metadata": {},
     "output_type": "execute_result"
    }
   ],
   "source": [
    "complete_file = {\n",
    "    \n",
    "    'file_name': train_test_data_set['file_name'],\n",
    "    'MFCC': train_test_data_set['MFCC'],\n",
    "    'classe_5c': data_frame_5c['classe_5'],\n",
    "    'classe_2c': data_frame_2c['classe_2'],\n",
    "    'value_5c': data_frame_5c['value_5'],\n",
    "    'value_2c': data_frame_2c['value_2'],\n",
    "    \n",
    "    # features\n",
    "    'mean': [np.mean(i) for i in train_test_data_set['MFCC']], \n",
    "    'std' : [np.std(i) for i in train_test_data_set['MFCC']], \n",
    "    'skewness': [skew(i) for i in train_test_data_set['MFCC']],\n",
    "    'kurtosis': [kurtosis(i) for i in train_test_data_set['MFCC']]\n",
    "    \n",
    "}\n",
    "\n",
    "complete_file_data_frame = pd.DataFrame(complete_file)\n",
    "complete_file_data_frame.head()"
   ]
  },
  {
   "cell_type": "code",
   "execution_count": 10,
   "metadata": {},
   "outputs": [],
   "source": [
    "train_data_set = complete_file_data_frame.iloc[:len(AIBO_O_DIR)]\n",
    "test_data_set = complete_file_data_frame.iloc[len(AIBO_O_DIR):]"
   ]
  },
  {
   "cell_type": "code",
   "execution_count": 11,
   "metadata": {},
   "outputs": [],
   "source": [
    "def to_matrix(data):\n",
    "    \n",
    "    '''\n",
    "    \n",
    "    Sklearn accept vectors of shape (X,Y), so MFCCs has to be in matrix format, this function accept a Data Frame vector as\n",
    "    Input and than output a matrix as output \n",
    "    \n",
    "    Input- data Frame vector \n",
    "    output- Matrix format \n",
    "    \n",
    "    train_data_frame['MFCC'][0] : is the number of columns it's the same in two cases :) \n",
    "    \n",
    "    '''\n",
    "    \n",
    "    mfcc = np.zeros([len(data['MFCC']), len(train_data_set['MFCC'][0])]) \n",
    "    for index, value in enumerate(data['MFCC']):\n",
    "        mfcc[index,:] = value\n",
    "    return mfcc\n",
    "\n",
    "def compute_metrics(true_data, prediction, average = None) :\n",
    "    '''\n",
    "    A function to compute metrics results\n",
    "    \n",
    "    '''\n",
    "    \n",
    "    from sklearn.metrics import accuracy_score, precision_score, recall_score\n",
    "    \n",
    "    acc = accuracy_score(np.array(true_data), prediction) \n",
    "\n",
    "    precision = precision_score(np.array(true_data), prediction, average= average)\n",
    "\n",
    "    recall = recall_score(np.array(true_data), prediction ,average = average)\n",
    "\n",
    "    print('the accuracy is equal to '+ str(acc))\n",
    "    print('the precision is equal to ' + str (precision))\n",
    "    print('the recall is equal to ' + str(recall))\n",
    "    \n",
    "def to_binary (data) : \n",
    "    a = [] \n",
    "    for i in data:\n",
    "        if i == 'NEG':\n",
    "            a.append(0)\n",
    "        if i == 'IDL':\n",
    "            a.append(1)\n",
    "    return np.array(a) \n",
    "\n",
    "def to_digits(data, unique_labels_5c):\n",
    "        \n",
    "    a = [] \n",
    "    for i in data:\n",
    "        if i == unique_labels_5c[0]:\n",
    "            a.append(0)\n",
    "        if i == unique_labels_5c[1]:\n",
    "            a.append(1)\n",
    "        if i == unique_labels_5c[2]:\n",
    "            a.append(2)\n",
    "        if i == unique_labels_5c[3]:\n",
    "            a.append(3)\n",
    "        if i == unique_labels_5c[4]:\n",
    "            a.append(4)\n",
    "            \n",
    "    return np.array(a) "
   ]
  },
  {
   "cell_type": "markdown",
   "metadata": {},
   "source": [
    "# APPROACHES"
   ]
  },
  {
   "cell_type": "code",
   "execution_count": 12,
   "metadata": {},
   "outputs": [],
   "source": [
    "train_mfcc = to_matrix(train_data_set)\n",
    "test_mfcc = to_matrix(test_data_set)"
   ]
  },
  {
   "cell_type": "markdown",
   "metadata": {},
   "source": [
    "# Naive Bayes Classifier "
   ]
  },
  {
   "cell_type": "code",
   "execution_count": 16,
   "metadata": {},
   "outputs": [
    {
     "name": "stdout",
     "output_type": "stream",
     "text": [
      "the accuracy is equal to 0.631706430907\n",
      "the precision is equal to 0.552596642067\n",
      "the recall is equal to 0.631706430907\n"
     ]
    }
   ],
   "source": [
    "from sklearn import naive_bayes\n",
    "from sklearn.naive_bayes import GaussianNB\n",
    "from scipy import sparse\n",
    "model = GaussianNB ()\n",
    "model.fit(train_mfcc, np.array(train_data_set['classe_2c'])) \n",
    "prediction = model.predict(test_mfcc)\n",
    "compute_metrics(np.array(test_data_set['classe_2c']), prediction,  average='weighted')   "
   ]
  },
  {
   "cell_type": "markdown",
   "metadata": {},
   "source": [
    "# Logistic Regression "
   ]
  },
  {
   "cell_type": "code",
   "execution_count": 17,
   "metadata": {
    "scrolled": true
   },
   "outputs": [
    {
     "name": "stdout",
     "output_type": "stream",
     "text": [
      "the accuracy is equal to 0.648540632191\n",
      "the precision is equal to 0.537911100454\n",
      "the recall is equal to 0.648540632191\n"
     ]
    }
   ],
   "source": [
    "from sklearn import linear_model\n",
    "\n",
    "model = linear_model.LogisticRegression() \n",
    "model.fit(train_mfcc, np.array(train_data_set['classe_2c'])) \n",
    "prediction = model.predict(test_mfcc)\n",
    "compute_metrics(np.array(test_data_set['classe_2c']), prediction,  average='weighted')"
   ]
  },
  {
   "cell_type": "markdown",
   "metadata": {},
   "source": [
    "# SVM Classifier"
   ]
  },
  {
   "cell_type": "code",
   "execution_count": 18,
   "metadata": {},
   "outputs": [],
   "source": [
    "# test Normalizing features\n",
    "mean_train_mfcc = train_mfcc/np.mean(train_mfcc, axis = 1).reshape(-1,1)\n",
    "mean_test_mfcc  = test_mfcc/np.mean(test_mfcc, axis = 1).reshape(-1,1)"
   ]
  },
  {
   "cell_type": "code",
   "execution_count": 19,
   "metadata": {},
   "outputs": [],
   "source": [
    "from sklearn import svm \n",
    "\n",
    "model = svm.SVC()\n",
    "model.fit(train_mfcc, np.array(train_data_set['classe_5c'])) \n",
    "prediction = model.predict(test_mfcc)"
   ]
  },
  {
   "cell_type": "code",
   "execution_count": 33,
   "metadata": {},
   "outputs": [
    {
     "name": "stdout",
     "output_type": "stream",
     "text": [
      "the accuracy is equal to 0.560615235558\n",
      "the precision is equal to 0.314289442339\n",
      "the recall is equal to 0.560615235558\n"
     ]
    },
    {
     "name": "stderr",
     "output_type": "stream",
     "text": [
      "/home/maiza/Bureau/Projets/emotion/env/lib/python3.5/site-packages/sklearn/metrics/classification.py:1135: UndefinedMetricWarning: Precision is ill-defined and being set to 0.0 in labels with no predicted samples.\n",
      "  'precision', 'predicted', average, warn_for)\n"
     ]
    }
   ],
   "source": [
    "compute_metrics(np.array(test_data_set['classe_5c']), prediction, average='weighted')  "
   ]
  },
  {
   "cell_type": "markdown",
   "metadata": {},
   "source": [
    "# GMM  "
   ]
  },
  {
   "cell_type": "code",
   "execution_count": 14,
   "metadata": {},
   "outputs": [],
   "source": [
    "train_binary_label = to_binary(train_data_set['classe_2c'])\n",
    "test_binary_label = to_binary(test_data_set['classe_2c'])\n",
    "\n",
    "from sklearn import mixture\n",
    "g = mixture.GaussianMixture(n_components=2) \n",
    "g.fit(train_mfcc,train_binary_label)\n",
    "prediction = g.predict(test_mfcc)"
   ]
  },
  {
   "cell_type": "code",
   "execution_count": 15,
   "metadata": {},
   "outputs": [
    {
     "name": "stdout",
     "output_type": "stream",
     "text": [
      "the accuracy is equal to 0.63122199346\n",
      "the precision is equal to 0.555437498747\n",
      "the recall is equal to 0.63122199346\n"
     ]
    }
   ],
   "source": [
    "compute_metrics(test_binary_label, prediction, average='weighted')   "
   ]
  }
 ],
 "metadata": {
  "kernelspec": {
   "display_name": "Python 3",
   "language": "python",
   "name": "python3"
  },
  "language_info": {
   "codemirror_mode": {
    "name": "ipython",
    "version": 3
   },
   "file_extension": ".py",
   "mimetype": "text/x-python",
   "name": "python",
   "nbconvert_exporter": "python",
   "pygments_lexer": "ipython3",
   "version": "3.6.6rc1"
  }
 },
 "nbformat": 4,
 "nbformat_minor": 2
}
